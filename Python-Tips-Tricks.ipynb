{
  "nbformat": 4,
  "nbformat_minor": 0,
  "metadata": {
    "colab": {
      "name": "Python-Tips-Tricks.ipynb",
      "provenance": [],
      "collapsed_sections": [],
      "authorship_tag": "ABX9TyOKO3e+hJxNHdu9KdGYJwWH",
      "include_colab_link": true
    },
    "kernelspec": {
      "name": "python3",
      "display_name": "Python 3"
    },
    "language_info": {
      "name": "python"
    }
  },
  "cells": [
    {
      "cell_type": "markdown",
      "metadata": {
        "id": "view-in-github",
        "colab_type": "text"
      },
      "source": [
        "<a href=\"https://colab.research.google.com/github/harshdhamecha/Python-Projects/blob/main/Python-Tips-Tricks.ipynb\" target=\"_parent\"><img src=\"https://colab.research.google.com/assets/colab-badge.svg\" alt=\"Open In Colab\"/></a>"
      ]
    },
    {
      "cell_type": "markdown",
      "metadata": {
        "id": "4yHRceDNmjig"
      },
      "source": [
        "## Trick 1: Ternary Condition"
      ]
    },
    {
      "cell_type": "code",
      "metadata": {
        "colab": {
          "base_uri": "https://localhost:8080/"
        },
        "id": "pnC_DBi8mB6j",
        "outputId": "772d5e76-7e1c-4e19-b356-050283d146b9"
      },
      "source": [
        "condition = False\n",
        "if condition:\n",
        "    x = 1\n",
        "else:\n",
        "    x = 0\n",
        "print(x)"
      ],
      "execution_count": null,
      "outputs": [
        {
          "output_type": "stream",
          "text": [
            "0\n"
          ],
          "name": "stdout"
        }
      ]
    },
    {
      "cell_type": "code",
      "metadata": {
        "colab": {
          "base_uri": "https://localhost:8080/"
        },
        "id": "mQ9qCi8NmMT4",
        "outputId": "3786a93b-e24f-4065-850e-880e0723edd7"
      },
      "source": [
        "condition = False\n",
        "x = 1 if condition else 0\n",
        "print(x)"
      ],
      "execution_count": null,
      "outputs": [
        {
          "output_type": "stream",
          "text": [
            "0\n"
          ],
          "name": "stdout"
        }
      ]
    },
    {
      "cell_type": "markdown",
      "metadata": {
        "id": "b_IGgQQqmmuy"
      },
      "source": [
        "## Trick 2: Working with Large Numbers"
      ]
    },
    {
      "cell_type": "code",
      "metadata": {
        "colab": {
          "base_uri": "https://localhost:8080/"
        },
        "id": "ZS6w52boe5-E",
        "outputId": "904d7962-e4b8-4c3a-969a-8d93aa80f665"
      },
      "source": [
        "num1 = 10_00_000     \n",
        "num2 = 10000000        \n",
        "\n",
        "total = num1 + num2\n",
        "\n",
        "print(f'{total:,}')"
      ],
      "execution_count": null,
      "outputs": [
        {
          "output_type": "stream",
          "text": [
            "11,000,000\n"
          ],
          "name": "stdout"
        }
      ]
    },
    {
      "cell_type": "code",
      "metadata": {
        "colab": {
          "base_uri": "https://localhost:8080/"
        },
        "id": "2s59hdo_mhdN",
        "outputId": "5ed3b4cc-a6bc-490d-87d0-e5595eb6301f"
      },
      "source": [
        "num1 = 1_000_000_000     # 1 billion\n",
        "num2 = 10_000_000        # 10 million\n",
        "\n",
        "total = num1 + num2\n",
        "\n",
        "print(f'{total:,}')"
      ],
      "execution_count": null,
      "outputs": [
        {
          "output_type": "stream",
          "text": [
            "1,010,000,000\n"
          ],
          "name": "stdout"
        }
      ]
    },
    {
      "cell_type": "markdown",
      "metadata": {
        "id": "oqKso4Xu2gKF"
      },
      "source": [
        "## Trick 3: Unpacking Values"
      ]
    },
    {
      "cell_type": "code",
      "metadata": {
        "colab": {
          "base_uri": "https://localhost:8080/"
        },
        "id": "alPuX8h2nhvF",
        "outputId": "dda94c72-adec-4931-a509-57606a0c6b57"
      },
      "source": [
        "items = (1, 2)\n",
        "print(items)"
      ],
      "execution_count": null,
      "outputs": [
        {
          "output_type": "stream",
          "text": [
            "(1, 2)\n"
          ],
          "name": "stdout"
        }
      ]
    },
    {
      "cell_type": "code",
      "metadata": {
        "colab": {
          "base_uri": "https://localhost:8080/"
        },
        "id": "51VQ7_zw2ow_",
        "outputId": "8671f405-409f-4a59-a3a3-1f22d0f981b7"
      },
      "source": [
        "a, b = 1, 2\n",
        "print(a)\n",
        "print(b)"
      ],
      "execution_count": null,
      "outputs": [
        {
          "output_type": "stream",
          "text": [
            "1\n",
            "2\n"
          ],
          "name": "stdout"
        }
      ]
    },
    {
      "cell_type": "code",
      "metadata": {
        "colab": {
          "base_uri": "https://localhost:8080/"
        },
        "id": "8hFKzC392roR",
        "outputId": "c1c03168-fd65-4fb8-f515-7536c7cee2a3"
      },
      "source": [
        "a, b, *c = (1, 2, 3, 4, 5, 6)\n",
        "print(a)\n",
        "print(b)\n",
        "print(c)"
      ],
      "execution_count": null,
      "outputs": [
        {
          "output_type": "stream",
          "text": [
            "1\n",
            "2\n",
            "[3, 4, 5, 6]\n"
          ],
          "name": "stdout"
        }
      ]
    },
    {
      "cell_type": "markdown",
      "metadata": {
        "id": "qkVUUScZjMVo"
      },
      "source": [
        "## Trick 4: Inputting Secret Information"
      ]
    },
    {
      "cell_type": "code",
      "metadata": {
        "colab": {
          "base_uri": "https://localhost:8080/"
        },
        "id": "m30PtaoH3JTc",
        "outputId": "90c65c28-e8e5-4d32-ddae-9393db82ebb6"
      },
      "source": [
        "uname = input('Enter Username: ')\n",
        "pwd = input('Enter password: ')\n",
        "\n",
        "print('Logging In....')"
      ],
      "execution_count": null,
      "outputs": [
        {
          "output_type": "stream",
          "text": [
            "Enter Username: harsh\n",
            "Enter password: secrets\n",
            "Logging In....\n"
          ],
          "name": "stdout"
        }
      ]
    },
    {
      "cell_type": "code",
      "metadata": {
        "colab": {
          "base_uri": "https://localhost:8080/"
        },
        "id": "6wwfGmgOjnFE",
        "outputId": "cd475485-83ed-40ec-bb01-7c4a6bf49e0b"
      },
      "source": [
        "from getpass import getpass\n",
        "\n",
        "uname = input('Enter Username: ')\n",
        "pwd = getpass('Enter password: ')\n",
        "\n",
        "print('Logging In....')"
      ],
      "execution_count": null,
      "outputs": [
        {
          "output_type": "stream",
          "text": [
            "Enter Username: harsh\n",
            "Enter password: ··········\n",
            "Logging In....\n"
          ],
          "name": "stdout"
        }
      ]
    },
    {
      "cell_type": "markdown",
      "metadata": {
        "id": "H-nMniucm4Bh"
      },
      "source": [
        "## Trick 5: Use Generators to Save Memory"
      ]
    },
    {
      "cell_type": "code",
      "metadata": {
        "colab": {
          "base_uri": "https://localhost:8080/"
        },
        "id": "-k_XqYIHm2-g",
        "outputId": "39ed019d-a3c3-4739-b3ed-f16952ba72a3"
      },
      "source": [
        "import sys\n",
        "squares_list = [i*i for i in range(10_000)]\n",
        "# To print the size of a variable \n",
        "print(sys.getsizeof(squares_list, \"bytes\"))   "
      ],
      "execution_count": null,
      "outputs": [
        {
          "output_type": "stream",
          "text": [
            "87632\n"
          ],
          "name": "stdout"
        }
      ]
    },
    {
      "cell_type": "code",
      "metadata": {
        "colab": {
          "base_uri": "https://localhost:8080/"
        },
        "id": "zmO7mu9Mjwl1",
        "outputId": "e7b07763-08a4-47da-89ad-a335624ca336"
      },
      "source": [
        "squares_gen = (i*i for i in range(10_000))\n",
        "# To print the size of a variable \n",
        "print(sys.getsizeof(squares_gen, \"bytes\"))  "
      ],
      "execution_count": null,
      "outputs": [
        {
          "output_type": "stream",
          "text": [
            "128\n"
          ],
          "name": "stdout"
        }
      ]
    },
    {
      "cell_type": "markdown",
      "metadata": {
        "id": "JcBoQ-sPs9TQ"
      },
      "source": [
        "## Trick 6: Define Default Values in Dictionaries with .get() and .setdefault()"
      ]
    },
    {
      "cell_type": "code",
      "metadata": {
        "colab": {
          "base_uri": "https://localhost:8080/",
          "height": 195
        },
        "id": "hEACR5qvtKGH",
        "outputId": "a8b99021-873b-4944-8541-f971fafcad82"
      },
      "source": [
        "items = {'name': 't-shirt', 'price': 999}\n",
        "count = items['count']\n",
        "print(count)"
      ],
      "execution_count": null,
      "outputs": [
        {
          "output_type": "error",
          "ename": "KeyError",
          "evalue": "ignored",
          "traceback": [
            "\u001b[0;31m---------------------------------------------------------------------------\u001b[0m",
            "\u001b[0;31mKeyError\u001b[0m                                  Traceback (most recent call last)",
            "\u001b[0;32m<ipython-input-25-c3af4bb89827>\u001b[0m in \u001b[0;36m<module>\u001b[0;34m()\u001b[0m\n\u001b[1;32m      1\u001b[0m \u001b[0mitems\u001b[0m \u001b[0;34m=\u001b[0m \u001b[0;34m{\u001b[0m\u001b[0;34m'name'\u001b[0m\u001b[0;34m:\u001b[0m \u001b[0;34m't-shirt'\u001b[0m\u001b[0;34m,\u001b[0m \u001b[0;34m'price'\u001b[0m\u001b[0;34m:\u001b[0m \u001b[0;36m999\u001b[0m\u001b[0;34m}\u001b[0m\u001b[0;34m\u001b[0m\u001b[0;34m\u001b[0m\u001b[0m\n\u001b[0;32m----> 2\u001b[0;31m \u001b[0mcount\u001b[0m \u001b[0;34m=\u001b[0m \u001b[0mitems\u001b[0m\u001b[0;34m[\u001b[0m\u001b[0;34m'count'\u001b[0m\u001b[0;34m]\u001b[0m\u001b[0;34m\u001b[0m\u001b[0;34m\u001b[0m\u001b[0m\n\u001b[0m\u001b[1;32m      3\u001b[0m \u001b[0mprint\u001b[0m\u001b[0;34m(\u001b[0m\u001b[0mcount\u001b[0m\u001b[0;34m)\u001b[0m\u001b[0;34m\u001b[0m\u001b[0;34m\u001b[0m\u001b[0m\n",
            "\u001b[0;31mKeyError\u001b[0m: 'count'"
          ]
        }
      ]
    },
    {
      "cell_type": "code",
      "metadata": {
        "colab": {
          "base_uri": "https://localhost:8080/"
        },
        "id": "p42_KXVlt04m",
        "outputId": "21bb6871-564a-4fc7-f704-eea843baedd3"
      },
      "source": [
        "items = {'name': 't-shirt', 'price': 999}\n",
        "count = items.get('count', 0)\n",
        "print(count)\n",
        "print(items)"
      ],
      "execution_count": null,
      "outputs": [
        {
          "output_type": "stream",
          "text": [
            "0\n",
            "{'name': 't-shirt', 'price': 999}\n"
          ],
          "name": "stdout"
        }
      ]
    },
    {
      "cell_type": "code",
      "metadata": {
        "colab": {
          "base_uri": "https://localhost:8080/"
        },
        "id": "rhEX9XPuu6ie",
        "outputId": "42be26dd-ed5e-4e1f-fc0c-8969036c19dd"
      },
      "source": [
        "items = {'name': 't-shirt', 'price': 999}\n",
        "count = items.setdefault('count', 0)\n",
        "print(count)\n",
        "print(items)"
      ],
      "execution_count": null,
      "outputs": [
        {
          "output_type": "stream",
          "text": [
            "0\n",
            "{'name': 't-shirt', 'price': 999, 'count': 0}\n"
          ],
          "name": "stdout"
        }
      ]
    },
    {
      "cell_type": "markdown",
      "metadata": {
        "id": "dxnb1WfevYBS"
      },
      "source": [
        "## Trick 7: Iterate With `enumerate()` instead of `range(len())`"
      ]
    },
    {
      "cell_type": "code",
      "metadata": {
        "colab": {
          "base_uri": "https://localhost:8080/"
        },
        "id": "ATa4sk2_vm9n",
        "outputId": "2f765f6a-bd3e-4405-d21a-935544156c32"
      },
      "source": [
        "numbers = [1, 3, -2, -6]\n",
        "for i in range(len(numbers)):\n",
        "    if numbers[i] < 0:\n",
        "        numbers[i] = 0\n",
        "\n",
        "print(numbers)"
      ],
      "execution_count": null,
      "outputs": [
        {
          "output_type": "stream",
          "text": [
            "[1, 3, 0, 0]\n"
          ],
          "name": "stdout"
        }
      ]
    },
    {
      "cell_type": "code",
      "metadata": {
        "colab": {
          "base_uri": "https://localhost:8080/"
        },
        "id": "KGBS0V6pwSIz",
        "outputId": "8391c56b-4a14-4ed8-945d-338ce347ceed"
      },
      "source": [
        "numbers = [1, 3, -2, -6]\n",
        "for idx, number in enumerate(numbers):\n",
        "    if number < 0:\n",
        "        numbers[idx] = 0\n",
        "\n",
        "print(numbers)"
      ],
      "execution_count": null,
      "outputs": [
        {
          "output_type": "stream",
          "text": [
            "[1, 3, 0, 0]\n"
          ],
          "name": "stdout"
        }
      ]
    },
    {
      "cell_type": "markdown",
      "metadata": {
        "id": "8Bi8SoJ8qSLY"
      },
      "source": [
        "## Trick 8: Merge Dictionaries"
      ]
    },
    {
      "cell_type": "code",
      "metadata": {
        "colab": {
          "base_uri": "https://localhost:8080/"
        },
        "id": "qnbx3fN1nexW",
        "outputId": "62ed5d1d-9e74-413a-bc03-524c44e7b543"
      },
      "source": [
        "d1 = {'name': 'vishal', 'age': 23}\n",
        "d2 = {'name': 'vishal', 'city': 'Rajkot'}\n",
        "merged_dict = {**d1, **d2}\n",
        "print(merged_dict)"
      ],
      "execution_count": null,
      "outputs": [
        {
          "output_type": "stream",
          "text": [
            "{'name': 'vishal', 'age': 23, 'city': 'Rajkot'}\n"
          ],
          "name": "stdout"
        }
      ]
    },
    {
      "cell_type": "markdown",
      "metadata": {
        "id": "IDAoEew0y2pz"
      },
      "source": [
        "## Trick 9: Looping through Multiple Lists"
      ]
    },
    {
      "cell_type": "code",
      "metadata": {
        "colab": {
          "base_uri": "https://localhost:8080/"
        },
        "id": "8TCf63JArIms",
        "outputId": "b1bf47b2-8adc-4fec-dc31-0d4132331578"
      },
      "source": [
        "players = ['MS Dhoni', 'Virat Kohli', 'Rohit Sharma', 'Dinesh Karthik']\n",
        "ipl_teams = ['CSK', 'RCB', 'MI', 'KKR']\n",
        "\n",
        "for idx, player in enumerate(players):\n",
        "    team = ipl_teams[idx]\n",
        "    print(f'{player} played for {team}')"
      ],
      "execution_count": null,
      "outputs": [
        {
          "output_type": "stream",
          "text": [
            "MS Dhoni played for CSK\n",
            "Virat Kohli played for RCB\n",
            "Rohit Sharma played for MI\n",
            "Dinesh Karthik played for KKR\n"
          ],
          "name": "stdout"
        }
      ]
    },
    {
      "cell_type": "code",
      "metadata": {
        "colab": {
          "base_uri": "https://localhost:8080/"
        },
        "id": "T_vKXI8o0egH",
        "outputId": "cd888ed3-7983-4ea6-b07a-8c42408d9555"
      },
      "source": [
        "players = ['MS Dhoni', 'Virat Kohli', 'Rohit Sharma', 'Dinesh Karthik']\n",
        "ipl_teams = ['CSK', 'RCB', 'MI', 'KKR']\n",
        "\n",
        "for player, team in zip(players, ipl_teams):\n",
        "    print(f'{player} played for {team}')"
      ],
      "execution_count": null,
      "outputs": [
        {
          "output_type": "stream",
          "text": [
            "MS Dhoni played for CSK\n",
            "Virat Kohli played for RCB\n",
            "Rohit Sharma played for MI\n",
            "Dinesh Karthik played for KKR\n"
          ],
          "name": "stdout"
        }
      ]
    },
    {
      "cell_type": "markdown",
      "metadata": {
        "id": "rvsPP4CAbJBT"
      },
      "source": [
        "## Trick 10: Use Dictionary to Replicate Switch Case"
      ]
    },
    {
      "cell_type": "code",
      "metadata": {
        "id": "0i63iEqT0rPB",
        "colab": {
          "base_uri": "https://localhost:8080/"
        },
        "outputId": "31fcf741-1cef-4d1e-c6a8-822bf9d946cf"
      },
      "source": [
        "calc = {\n",
        "    'add': lambda x, y: x + y,\n",
        "    'subtract': lambda x, y: x - y,\n",
        "    'mul': lambda x, y: x * y,\n",
        "    'div': lambda x, y: x / y \n",
        "}\n",
        "\n",
        "print(calc['add'](5, 4))\n",
        "print(calc['subtract'](5, 2))\n",
        "print(calc['mul'](5, 4))\n",
        "print(calc['div'](10, 2))"
      ],
      "execution_count": null,
      "outputs": [
        {
          "output_type": "stream",
          "text": [
            "9\n",
            "3\n",
            "20\n",
            "5.0\n"
          ],
          "name": "stdout"
        }
      ]
    },
    {
      "cell_type": "markdown",
      "metadata": {
        "id": "9N-BGM7w94gC"
      },
      "source": [
        "## Bonus Tip: Use the Interactive `_` Operator"
      ]
    },
    {
      "cell_type": "code",
      "metadata": {
        "colab": {
          "base_uri": "https://localhost:8080/"
        },
        "id": "hmhvdySz9-Y-",
        "outputId": "b994e2b0-c170-48f5-a96b-8fb015977ec3"
      },
      "source": [
        "2 + 3"
      ],
      "execution_count": 7,
      "outputs": [
        {
          "output_type": "execute_result",
          "data": {
            "text/plain": [
              "5"
            ]
          },
          "metadata": {
            "tags": []
          },
          "execution_count": 7
        }
      ]
    },
    {
      "cell_type": "code",
      "metadata": {
        "colab": {
          "base_uri": "https://localhost:8080/"
        },
        "id": "HKymmyA9Ylk8",
        "outputId": "f2bd2647-21af-4451-f4c1-ef0b3399363e"
      },
      "source": [
        "print(_)"
      ],
      "execution_count": 8,
      "outputs": [
        {
          "output_type": "stream",
          "text": [
            "5\n"
          ],
          "name": "stdout"
        }
      ]
    }
  ]
}